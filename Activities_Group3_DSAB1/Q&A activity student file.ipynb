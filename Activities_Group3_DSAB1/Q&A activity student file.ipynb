{
 "cells": [
  {
   "cell_type": "markdown",
   "metadata": {
    "id": "4z_Z-K1tlrS7"
   },
   "source": [
    "## 1. Complete the following code to find the area of an equilateral triangle. Output should be as displayed"
   ]
  },
  {
   "cell_type": "code",
   "execution_count": 1,
   "metadata": {
    "id": "rP2qFD_SlrS_"
   },
   "outputs": [
    {
     "name": "stdout",
     "output_type": "stream",
     "text": [
      "Enter the side of the equilateral triangle: 5\n",
      "10.825317547305483\n"
     ]
    }
   ],
   "source": [
    "import math\n",
    "side = float(input(\"Enter the side of the equilateral triangle: \"))\n",
    "area = ((math.sqrt(3))/4)*pow(side,2)\n",
    "print(area)"
   ]
  },
  {
   "cell_type": "markdown",
   "metadata": {
    "id": "TjVKjIfclrTB"
   },
   "source": [
    "## 2. Write a program to count the number of each characters in a string"
   ]
  },
  {
   "cell_type": "code",
   "execution_count": 2,
   "metadata": {
    "id": "JY5seVUQlrTC"
   },
   "outputs": [
    {
     "name": "stdout",
     "output_type": "stream",
     "text": [
      "Enter a string:characters\n",
      "10\n"
     ]
    }
   ],
   "source": [
    "ABC = input(\"Enter a string:\")\n",
    "print(len(ABC))"
   ]
  },
  {
   "cell_type": "markdown",
   "metadata": {
    "id": "l3LCULfklrTD"
   },
   "source": [
    "## Write a program to find the area and perimeter of a rectangle using functions"
   ]
  },
  {
   "cell_type": "code",
   "execution_count": 3,
   "metadata": {
    "id": "8haQD8edlrTD"
   },
   "outputs": [
    {
     "name": "stdout",
     "output_type": "stream",
     "text": [
      "Length : 5\n",
      "Width : 10\n",
      "Area of Rectangle :  50\n",
      "Perimeter of Rectangle :  30\n"
     ]
    }
   ],
   "source": [
    "#function for finding area.\n",
    "def area():\n",
    "    return l*w\n",
    "#function for finding perimeter.\n",
    "def perimeter():\n",
    "    return 2*(l+w)\n",
    "\n",
    "#Input the length and width as l & w\n",
    "l=int(input(\"Length : \"))\n",
    "w=int(input(\"Width : \"))\n",
    "\n",
    "#function call.\n",
    "print(\"Area of Rectangle : \",area())\n",
    "print(\"Perimeter of Rectangle : \",perimeter())"
   ]
  },
  {
   "cell_type": "markdown",
   "metadata": {
    "id": "JHK4ZdsflrTE"
   },
   "source": [
    "## 4. Write a program to print the fibonacci series till a specified number"
   ]
  },
  {
   "cell_type": "code",
   "execution_count": 4,
   "metadata": {
    "id": "LyBEj-4SlrTE"
   },
   "outputs": [
    {
     "name": "stdout",
     "output_type": "stream",
     "text": [
      "How many terms: 8\n",
      "Fibonacci Series: \n",
      "0 1 1 2 3 5 8 13 "
     ]
    }
   ],
   "source": [
    "specifiedNumber = int(input(\"How many terms: \"))\n",
    "\n",
    "#first two terms  \n",
    "n_1 = 0  \n",
    "n_2 = 1  \n",
    "sum = 0\n",
    "count = 1\n",
    "print(\"Fibonacci Series: \")\n",
    "while(count <= specifiedNumber):\n",
    "  print(sum, end = \" \")\n",
    "  count += 1\n",
    "  n_1 = n_2\n",
    "  n_2 = sum\n",
    "  sum = n_1 + n_2\n"
   ]
  },
  {
   "cell_type": "markdown",
   "metadata": {
    "id": "u4uBUcQKlrTE"
   },
   "source": [
    "## 5. Complete the following code to find the minimum of 3 number using cinditional statements. Output should be as displayed"
   ]
  },
  {
   "cell_type": "code",
   "execution_count": 11,
   "metadata": {
    "id": "XdZwrZjIlrTF"
   },
   "outputs": [
    {
     "name": "stdout",
     "output_type": "stream",
     "text": [
      "Enter three numbers : 5,1,10\n",
      "First number : 5\n",
      "Second number : 1\n",
      "Third number : 10\n",
      "1  is smallest\n"
     ]
    }
   ],
   "source": [
    "a,b,c = input(\"Enter three numbers : \").split(',')\n",
    "\n",
    "print(\"First number :\",a)\n",
    "print(\"Second number :\",b)\n",
    "print(\"Third number :\",c)\n",
    "if(a==b==c):\n",
    "    print(\"Entered numbers are equal!!!\")\n",
    "elif(a<b and a<c):\n",
    "    print(a,\" is smallest\")\n",
    "elif(b<a and b<c):\n",
    "    print(b,\" is smallest\")\n",
    "else:\n",
    "    print(c,\" is smallest\")"
   ]
  },
  {
   "cell_type": "markdown",
   "metadata": {
    "id": "aR_CnToWlrTG"
   },
   "source": [
    "## 6. Write a program to print star pyramind. The number of rows should be taken as input from the user"
   ]
  },
  {
   "cell_type": "code",
   "execution_count": 6,
   "metadata": {
    "id": "M37A-buplrTG"
   },
   "outputs": [
    {
     "name": "stdout",
     "output_type": "stream",
     "text": [
      "Enter a number for a star pyramind: 5\n",
      "*\n",
      "**\n",
      "***\n",
      "****\n",
      "*****\n"
     ]
    }
   ],
   "source": [
    "def pypart(n):\n",
    "    myList = []\n",
    "    for i in range(1,n+1):\n",
    "        myList.append(\"*\"*i)\n",
    "    print(\"\\n\".join(myList))\n",
    "\n",
    "n=int(input(\"Enter a number for a star pyramind: \"))\n",
    "pypart(n)"
   ]
  },
  {
   "cell_type": "markdown",
   "metadata": {
    "id": "tlY6aFWBlrTH"
   },
   "source": [
    "## 7. Complete the following code to convert hour into seconds. Output should be as displayed"
   ]
  },
  {
   "cell_type": "code",
   "execution_count": 7,
   "metadata": {
    "id": "YOZQFk7FlrTH"
   },
   "outputs": [
    {
     "name": "stdout",
     "output_type": "stream",
     "text": [
      "Enter Hour: 1\n",
      "1.0  Hour is equal to 3600.0  Seconds\n"
     ]
    }
   ],
   "source": [
    "def to_seconds(t):\n",
    "    min= t*60\n",
    "    sec=min*60\n",
    "    t=sec\n",
    "    return t\n",
    "time_in_hours = float(input(\"Enter Hour: \"))\n",
    "print(time_in_hours ,\" Hour is equal to\" ,to_seconds(time_in_hours) ,\" Seconds\")"
   ]
  },
  {
   "cell_type": "markdown",
   "metadata": {
    "id": "CnYorNiLlrTI"
   },
   "source": [
    "## 8. Write a program to print multiplication table as below"
   ]
  },
  {
   "cell_type": "code",
   "execution_count": 8,
   "metadata": {
    "id": "dPQqDPuDlrTI"
   },
   "outputs": [
    {
     "name": "stdout",
     "output_type": "stream",
     "text": [
      "The Multiplication Table of: 4\n",
      "4 x 1 = 4\n",
      "4 x 2 = 8\n",
      "4 x 3 = 12\n",
      "4 x 4 = 16\n",
      "4 x 5 = 20\n",
      "4 x 6 = 24\n",
      "4 x 7 = 28\n",
      "4 x 8 = 32\n",
      "4 x 9 = 36\n",
      "4 x 10 = 40\n"
     ]
    }
   ],
   "source": [
    "number = int(input(\"The Multiplication Table of: \"))   \n",
    "for count in range(1, 11):      \n",
    "   print (number, 'x', count, '=', number * count)"
   ]
  },
  {
   "cell_type": "markdown",
   "metadata": {
    "id": "Fiaez8iblrTI"
   },
   "source": [
    "## 9. Write a program to take your 5 favorite food as list and print each as 'I like Biriyani'"
   ]
  },
  {
   "cell_type": "code",
   "execution_count": 9,
   "metadata": {
    "id": "39W1zFX7lrTJ"
   },
   "outputs": [
    {
     "name": "stdout",
     "output_type": "stream",
     "text": [
      "Enter your 5 favorite Food as one by one.\n",
      "1, My favorite food is: Biriyani\n",
      "2, My favorite food is: Pizza\n",
      "3, My favorite food is: Burger\n",
      "4, My favorite food is: Fried Rice\n",
      "5, My favorite food is: Pasta\n",
      "I like Biriyani\n",
      "I like Pizza\n",
      "I like Burger\n",
      "I like Fried Rice\n",
      "I like Pasta\n"
     ]
    }
   ],
   "source": [
    "foodlist= []\n",
    "print(\"Enter your 5 favorite Food as one by one.\")\n",
    "for i in range(1,6):\n",
    "    food = input(str(i)+', My favorite food is: ')\n",
    "    foodlist.append(food)\n",
    "for i in foodlist:\n",
    "    print(\"I like \"+i)"
   ]
  },
  {
   "cell_type": "markdown",
   "metadata": {
    "id": "3vlcDNNEP7d_"
   },
   "source": [
    "## 10. Find error(s) in the following code(if any) and rewrite code.\n",
    "\n"
   ]
  },
  {
   "cell_type": "code",
   "execution_count": 10,
   "metadata": {
    "id": "coREkcY3P9sG"
   },
   "outputs": [
    {
     "name": "stdout",
     "output_type": "stream",
     "text": [
      "Enter value of x:5\n",
      "They are unequal\n",
      "They are unequal\n",
      "They are unequal\n",
      "They are unequal\n",
      "They are unequal\n",
      "They are equal\n",
      "They are unequal\n",
      "They are unequal\n",
      "They are unequal\n",
      "They are unequal\n"
     ]
    }
   ],
   "source": [
    "x= int(input(\"Enter value of x:\"))\n",
    "for y in range(0,10):\n",
    "     if (x==y):\n",
    "        print(\"They are equal\")\n",
    "     else:\n",
    "        print(\"They are unequal\")"
   ]
  },
  {
   "cell_type": "code",
   "execution_count": null,
   "metadata": {},
   "outputs": [],
   "source": []
  }
 ],
 "metadata": {
  "colab": {
   "collapsed_sections": [],
   "name": "Q&A activity student file.ipynb",
   "provenance": []
  },
  "kernelspec": {
   "display_name": "Python 3",
   "language": "python",
   "name": "python3"
  },
  "language_info": {
   "codemirror_mode": {
    "name": "ipython",
    "version": 3
   },
   "file_extension": ".py",
   "mimetype": "text/x-python",
   "name": "python",
   "nbconvert_exporter": "python",
   "pygments_lexer": "ipython3",
   "version": "3.8.8"
  }
 },
 "nbformat": 4,
 "nbformat_minor": 1
}
